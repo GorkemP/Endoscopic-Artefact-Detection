{
 "cells": [
  {
   "cell_type": "code",
   "execution_count": 1,
   "metadata": {},
   "outputs": [
    {
     "name": "stdout",
     "output_type": "stream",
     "text": [
      "2531\n"
     ]
    }
   ],
   "source": [
    "import numpy as np\n",
    "import glob\n",
    "from shutil import copyfile\n",
    "\n",
    "data_path = r'/home/ws2080/Desktop/data/all_merged/'\n",
    "train_path = r'/home/ws2080/Desktop/data/training/train/'\n",
    "test_path = r'/home/ws2080/Desktop/data/training/test/'\n",
    "validation_path = r'/home/ws2080/Desktop/data/training/validation/'\n",
    "ground_truth_path = r'/home/ws2080/Desktop/data/training/ground_truth_ead/'\n",
    "\n",
    "files = glob.glob(data_path+'*.jpg')\n",
    "\n",
    "print(len(files))\n",
    "total_size = len(files)"
   ]
  },
  {
   "cell_type": "code",
   "execution_count": 2,
   "metadata": {
    "scrolled": true
   },
   "outputs": [],
   "source": [
    "indices = np.random.permutation(total_size)\n",
    "data_train = indices[0:2231]\n",
    "data_test = indices[2231:total_size]"
   ]
  },
  {
   "cell_type": "code",
   "execution_count": 3,
   "metadata": {
    "scrolled": true
   },
   "outputs": [
    {
     "name": "stdout",
     "output_type": "stream",
     "text": [
      "train set created\n"
     ]
    }
   ],
   "source": [
    "for i in data_train:\n",
    "    file = files[i]\n",
    "    fileName_jpg = file.split(\"/\")[6]\n",
    "    fileName_txt= fileName_jpg.replace(\".jpg\", \".txt\")\n",
    "    \n",
    "    copyfile(data_path+fileName_jpg, train_path+fileName_jpg)\n",
    "    copyfile(data_path+fileName_txt, train_path+fileName_txt)\n",
    "print(\"train set created\")    "
   ]
  },
  {
   "cell_type": "code",
   "execution_count": 4,
   "metadata": {},
   "outputs": [
    {
     "name": "stdout",
     "output_type": "stream",
     "text": [
      "test set created\n"
     ]
    }
   ],
   "source": [
    "for i in data_test:\n",
    "    file = files[i]\n",
    "    fileName_jpg = file.split(\"/\")[6]\n",
    "    fileName_txt= fileName_jpg.replace(\".jpg\", \".txt\")\n",
    "    \n",
    "    copyfile(data_path+fileName_jpg, test_path+fileName_jpg)\n",
    "    copyfile(data_path+fileName_txt, ground_truth_path+fileName_txt)\n",
    "print(\"test set created\")        "
   ]
  },
  {
   "cell_type": "code",
   "execution_count": 5,
   "metadata": {
    "scrolled": true
   },
   "outputs": [
    {
     "name": "stdout",
     "output_type": "stream",
     "text": [
      "validation set created\n"
     ]
    }
   ],
   "source": [
    "for i in data_test:\n",
    "    file = files[i]\n",
    "    fileName_jpg = file.split(\"/\")[6]\n",
    "    fileName_txt= fileName_jpg.replace(\".jpg\", \".txt\")\n",
    "    \n",
    "    copyfile(data_path+fileName_jpg, validation_path+fileName_jpg)\n",
    "    copyfile(data_path+fileName_txt, validation_path+fileName_txt)\n",
    "print(\"validation set created\")"
   ]
  },
  {
   "cell_type": "markdown",
   "metadata": {},
   "source": [
    "## Convert to VOC format "
   ]
  },
  {
   "cell_type": "code",
   "execution_count": null,
   "metadata": {},
   "outputs": [],
   "source": [
    "import numpy as np\n",
    "import glob\n",
    "from PIL import Image\n",
    "\n",
    "files = glob.glob(r'/home/ws2080/Desktop/data/training/ground_truth_ead/*.txt')\n",
    "images_path = r'/home/ws2080/Desktop/data/training/test/'\n",
    "txt_file_path = r'/home/ws2080/Desktop/data/training/ground-truth/'\n",
    "\n",
    "class_names = [\"specularity\", \"saturation\", \"artifact\", \"blur\", \"contrast\", \n",
    "               \"bubbles\", \"instrument\", \"blood\"]"
   ]
  },
  {
   "cell_type": "code",
   "execution_count": null,
   "metadata": {},
   "outputs": [],
   "source": [
    "counter=0\n",
    "for file in files:\n",
    "    print(\"step: \"+str(counter))\n",
    "    counter +=1\n",
    "    fileName_txt = file.split(\"/\")[7]\n",
    "    fileName_jpg= fileName_txt.replace(\".txt\", \".jpg\")\n",
    "    \n",
    "    image = np.array(Image.open(images_path+fileName_jpg))\n",
    "    \n",
    "    width = image.shape[1]\n",
    "    height = image.shape[0]\n",
    "    \n",
    "    with open(file) as f:\n",
    "        contents = f.readlines()\n",
    "    \n",
    "    temp_detection_list = []\n",
    "    for content in contents:\n",
    "        information = content.split(' ')\n",
    "        temp_info = class_names[int(information[0])]+\" \"+ \\\n",
    "                    str((float(information[1]) - float(information[3]) / 2)*width)+\" \"+ \\\n",
    "                    str((float(information[2]) - float(information[4]) / 2)*height)+\" \"+ \\\n",
    "                    str((float(information[1]) + float(information[3]) / 2)*width)+\" \"+ \\\n",
    "                    str((float(information[2]) + float(information[4]) / 2)*height)\n",
    "        temp_detection_list.append(temp_info)\n",
    "    \n",
    "    with open(txt_file_path+fileName_txt, 'w') as f:\n",
    "            for item in temp_detection_list:\n",
    "                f.write(\"%s\\n\" % item)"
   ]
  }
 ],
 "metadata": {
  "kernelspec": {
   "display_name": "Python 3",
   "language": "python",
   "name": "python3"
  },
  "language_info": {
   "codemirror_mode": {
    "name": "ipython",
    "version": 3
   },
   "file_extension": ".py",
   "mimetype": "text/x-python",
   "name": "python",
   "nbconvert_exporter": "python",
   "pygments_lexer": "ipython3",
   "version": "3.7.3"
  }
 },
 "nbformat": 4,
 "nbformat_minor": 4
}
