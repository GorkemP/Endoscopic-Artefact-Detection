{
 "cells": [
  {
   "cell_type": "code",
   "execution_count": null,
   "metadata": {
    "scrolled": true
   },
   "outputs": [],
   "source": [
    "import numpy as np\n",
    "import matplotlib.pyplot as plt\n",
    "import matplotlib.patches as patches\n",
    "import cv2\n",
    "import glob\n",
    "import random"
   ]
  },
  {
   "cell_type": "code",
   "execution_count": null,
   "metadata": {
    "scrolled": true
   },
   "outputs": [],
   "source": [
    "test_image_path = r'images/'\n",
    "test_label_path = r'images/'\n",
    "output_path = 'images_bbox/'\n",
    "\n",
    "image_paths = glob.glob(test_image_path+'*.jpg')"
   ]
  },
  {
   "cell_type": "code",
   "execution_count": null,
   "metadata": {},
   "outputs": [],
   "source": [
    "image_paths"
   ]
  },
  {
   "cell_type": "code",
   "execution_count": null,
   "metadata": {
    "scrolled": true
   },
   "outputs": [],
   "source": [
    "def draw_box_on_image(image, groundTruthPath):\n",
    "    import matplotlib.pyplot as plt\n",
    "    import matplotlib.patches as patches\n",
    "    import cv2\n",
    "    \n",
    "    lineWidth = 1.5\n",
    "    \n",
    "    # Draw GT BBox\n",
    "    with open(groundTruthPath) as f:\n",
    "        contents_gt = f.readlines()\n",
    "\n",
    "    for content in contents_gt:\n",
    "        information = content.split(' ')\n",
    "\n",
    "        # Create a Rectangle patch\n",
    "        rect = patches.Rectangle((float(information[2]), float(information[3])), (float(information[4])-float(information[2])), \\\n",
    "                                  (float(information[5])-float(information[3])), linewidth=1, edgecolor='lime',facecolor='none')\n",
    "\n",
    "        # Add the patch to the Axes\n",
    "        ax.add_patch(rect)  \n"
   ]
  },
  {
   "cell_type": "code",
   "execution_count": null,
   "metadata": {},
   "outputs": [],
   "source": [
    "for image_path in image_paths:\n",
    "    \n",
    "    image_name = image_path.split(\"/\")[1]\n",
    "    txt_name = image_name.replace(\".jpg\", \".txt\")\n",
    "    \n",
    "    im=cv2.imread(image_path)[:, :, ::-1]\n",
    "    \n",
    "    # Create figure and axes\n",
    "    fig, ax = plt.subplots()\n",
    "    # Display the image\n",
    "    ax.imshow(im)\n",
    "    \n",
    "    temp_fig=draw_box_on_image(im, test_label_path+txt_name)\n",
    "    \n",
    "    fig.set_size_inches(12, 12)\n",
    "    print(image_name)\n",
    "    plt.show()    \n",
    "    fig.savefig(output_path+image_name, dpi=200, bbox_inches='tight', pad_inches=0)\n",
    "\n",
    "print('--------- Finished ---------')"
   ]
  }
 ],
 "metadata": {
  "kernelspec": {
   "display_name": "Python 3",
   "language": "python",
   "name": "python3"
  },
  "language_info": {
   "codemirror_mode": {
    "name": "ipython",
    "version": 3
   },
   "file_extension": ".py",
   "mimetype": "text/x-python",
   "name": "python",
   "nbconvert_exporter": "python",
   "pygments_lexer": "ipython3",
   "version": "3.7.3"
  }
 },
 "nbformat": 4,
 "nbformat_minor": 4
}
