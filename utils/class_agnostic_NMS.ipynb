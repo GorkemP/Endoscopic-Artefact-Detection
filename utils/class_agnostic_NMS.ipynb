{
 "cells": [
  {
   "cell_type": "code",
   "execution_count": 1,
   "metadata": {},
   "outputs": [],
   "source": [
    "import glob\n",
    "import numpy as np\n",
    "import argparse"
   ]
  },
  {
   "cell_type": "code",
   "execution_count": 2,
   "metadata": {},
   "outputs": [],
   "source": [
    "prediction_folder_path = \"predicted_files/\"\n",
    "output_folder_path = \"output_files/\"\n",
    "\n",
    "predictionPaths = glob.glob(prediction_folder_path+'*.txt')"
   ]
  },
  {
   "cell_type": "code",
   "execution_count": 3,
   "metadata": {},
   "outputs": [],
   "source": [
    "class_names = [\"specularity\", \"saturation\", \"artifact\", \"blur\", \"contrast\", \n",
    "               \"bubbles\", \"instrument\", \"blood\"]\n",
    "\n",
    "IoUs_path = \"files/class_iou_2_0.txt\"\n",
    "\n",
    "with open(IoUs_path) as f:\n",
    "    contents = f.readlines()\n",
    "\n",
    "# class_thresholds[target_list[-1][0]][contents[counter][0]]\n",
    "hard_threshold = 0.4\n",
    "\n",
    "class_thresholds  = {}\n",
    "temp_dict = {}\n",
    "\n",
    "for i in range(len(contents)):\n",
    "        \n",
    "    main_class = i // 8\n",
    "    sub_class = i-8*main_class\n",
    "        \n",
    "    content = float(contents[i].split(\" \")[1][0:7])\n",
    "    temp_dict[class_names[sub_class]]=content\n",
    "    \n",
    "    if (i%8 == 7):\n",
    "        class_thresholds[class_names[main_class]]= temp_dict\n",
    "        temp_dict = {}"
   ]
  },
  {
   "cell_type": "code",
   "execution_count": 4,
   "metadata": {},
   "outputs": [],
   "source": [
    "def IoU(boxA, boxB):\n",
    "    # determine the (x, y)-coordinates of the intersection rectangle\n",
    "    xA = max(boxA[0], boxB[0])\n",
    "    yA = max(boxA[1], boxB[1])\n",
    "    xB = min(boxA[2], boxB[2])\n",
    "    yB = min(boxA[3], boxB[3])\n",
    "    \n",
    "    # compute the area of intersection rectangle\n",
    "    interArea = max(0, xB - xA + 1) * max(0, yB - yA + 1)\n",
    "    \n",
    "    # compute the area of both the prediction and ground-truth\n",
    "    # rectangles\n",
    "    boxAArea = (boxA[2] - boxA[0] + 1) * (boxA[3] - boxA[1] + 1)\n",
    "    boxBArea = (boxB[2] - boxB[0] + 1) * (boxB[3] - boxB[1] + 1)\n",
    "    \n",
    "    # compute the intersection over union by taking the intersection\n",
    "    # area and dividing it by the sum of prediction + ground-truth\n",
    "    # areas - the interesection area\n",
    "    iou = interArea / float(boxAArea + boxBArea - interArea)\n",
    "    \n",
    "    # return the intersection over union value\n",
    "    return iou"
   ]
  },
  {
   "cell_type": "code",
   "execution_count": 5,
   "metadata": {
    "scrolled": true
   },
   "outputs": [
    {
     "name": "stdout",
     "output_type": "stream",
     "text": [
      "[['blur' '0.96' '2.41470336914' '5.749557495117' '512.0' '512.0']\n",
      " ['contrast' '0.96' '227.593383789' '139.3919525146' '381.8864135742'\n",
      "  '320.8430786132']\n",
      " ['blur' '0.33' '131.58454895' '86.1164093017' '424.6286621'\n",
      "  '373.772338867']\n",
      " ['contrast' '0.26' '140.1119537353' '117.5495758056' '401.585'\n",
      "  '341.2612304']\n",
      " ['artifact' '0.15' '492.860870361' '486.83618164' '509.87625122'\n",
      "  '506.155883789']]\n",
      "---------------------------------------------------------------\n",
      "add: ['blur' '0.96']\n",
      "add: ['contrast' '0.96']\n",
      "IoU: 0.4803836328390893\n",
      "delete: ['contrast' '0.26']\n",
      "add: ['blur' '0.33']\n",
      "add: ['artifact' '0.15']\n"
     ]
    }
   ],
   "source": [
    "for predictionPath in predictionPaths:\n",
    "    txt_file_name = predictionPath.split(\"/\")[-1]\n",
    "    target_list = []\n",
    "\n",
    "    contents = np.loadtxt(predictionPath, dtype=str)    \n",
    "    contents = contents[np.argsort(contents[:, 1])][::-1]\n",
    "    # debug\n",
    "    print(contents)\n",
    "    print(\"---------------------------------------------------------------\")\n",
    "    \n",
    "    while (len(contents) > 0):\n",
    "        target_list.append(contents[0])\n",
    "        \n",
    "        # debug\n",
    "        print(\"add: \"+str(target_list[-1][0:2]))\n",
    "        \n",
    "        contents = np.delete(contents, 0, 0)\n",
    "        \n",
    "        contents_size = len(contents)\n",
    "        counter = 0\n",
    "        while (counter < contents_size):                        \n",
    "            if (IoU(target_list[-1][2:].astype(float), contents[counter][2:].astype(float)) > class_thresholds[target_list[-1][0]][contents[counter][0]]):\n",
    "                # debug\n",
    "                print(\"IoU: \"+str(IoU(target_list[-1][2:].astype(float), contents[counter][2:].astype(float))))\n",
    "                print(\"delete: \"+str(contents[counter][0:2]))\n",
    "                    \n",
    "                contents = np.delete(contents, counter, 0)\n",
    "                counter = counter-1\n",
    "                contents_size = contents_size-1\n",
    "            counter = counter+1\n",
    "    \n",
    "    temp_detection_list = []\n",
    "    for i in range(len(target_list)):\n",
    "            temp_detection = target_list[i][0]+\" \"+ target_list[i][1]+\" \"+target_list[i][2]+\" \"+ target_list[i][3] +\" \"+target_list[i][4]+\" \"+ target_list[i][5]\n",
    "            temp_detection_list.append(temp_detection)   \n",
    "            \n",
    "    with open(output_folder_path+txt_file_name, 'w') as f:\n",
    "        for item in temp_detection_list:\n",
    "            f.write(\"%s\\n\" % item)"
   ]
  },
  {
   "cell_type": "code",
   "execution_count": 16,
   "metadata": {},
   "outputs": [
    {
     "name": "stdout",
     "output_type": "stream",
     "text": [
      "0.4952315078467867\n"
     ]
    }
   ],
   "source": [
    "boxA = np.array([353.075408935, 301.3045043945, 398.42288208, 387.420898])\n",
    "boxB = np.array([358.504882, 321.795928955, 391.3056030273, 379.953216552])\n",
    "\n",
    "print(IoU(boxA.astype(float), boxB.astype(float)))"
   ]
  }
 ],
 "metadata": {
  "kernelspec": {
   "display_name": "Python 3",
   "language": "python",
   "name": "python3"
  },
  "language_info": {
   "codemirror_mode": {
    "name": "ipython",
    "version": 3
   },
   "file_extension": ".py",
   "mimetype": "text/x-python",
   "name": "python",
   "nbconvert_exporter": "python",
   "pygments_lexer": "ipython3",
   "version": "3.7.4"
  }
 },
 "nbformat": 4,
 "nbformat_minor": 4
}
