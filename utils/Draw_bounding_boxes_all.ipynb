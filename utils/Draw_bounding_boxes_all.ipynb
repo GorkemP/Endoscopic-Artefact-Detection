{
 "cells": [
  {
   "cell_type": "code",
   "execution_count": null,
   "metadata": {},
   "outputs": [],
   "source": [
    "import numpy as np\n",
    "import matplotlib.pyplot as plt\n",
    "import matplotlib.patches as patches\n",
    "import cv2\n",
    "import glob"
   ]
  },
  {
   "cell_type": "code",
   "execution_count": null,
   "metadata": {},
   "outputs": [],
   "source": [
    "test_image_path = r'/home/ws2080/Desktop/data/training/test/'\n",
    "test_label_path = r'/home/ws2080/Desktop/data/training/ground-truth/'\n",
    "prediction_path = r'/home/ws2080/Desktop/data/training/predicted/'\n",
    "output_path     = r'/home/ws2080/Desktop/data/training/bounding_boxes/'\n",
    "\n",
    "image_paths = glob.glob(test_image_path+'*.jpg')\n"
   ]
  },
  {
   "cell_type": "code",
   "execution_count": null,
   "metadata": {},
   "outputs": [],
   "source": [
    "def draw_box_on_image(image, groundTruthPath, predictedPath):\n",
    "    import matplotlib.pyplot as plt\n",
    "    import matplotlib.patches as patches\n",
    "    import cv2\n",
    "    \n",
    "    # Draw GT BBox\n",
    "    with open(groundTruthPath) as f:\n",
    "        contents_gt = f.readlines()\n",
    "\n",
    "    for content in contents_gt:\n",
    "        information = content.split(' ')\n",
    "        plt.text(int(float(information[1])), int(float(information[2]))-2, information[0][0:3], color='blue', fontsize=7)\n",
    "        # Create a Rectangle patch\n",
    "        rect = patches.Rectangle((float(information[1]), float(information[2])), (float(information[3])-float(information[1])), \\\n",
    "                                  (float(information[4])-float(information[2])), linewidth=1.5, edgecolor='blue',facecolor='none')\n",
    "\n",
    "        # Add the patch to the Axes\n",
    "        ax.add_patch(rect)  \n",
    "\n",
    "    # Draw Predicted BBox\n",
    "    with open(predictedPath) as f:\n",
    "        contents_p = f.readlines()\n",
    "\n",
    "    for content in contents_p:\n",
    "        information = content.split(' ')    \n",
    "        \n",
    "        plt.text(int(float(information[4])), int(float(information[3])), information[0][0:3]+\"-\"+information[1][0:4], color='lime', fontsize=7)\n",
    "        # Create a Rectangle patch\n",
    "        rect = patches.Rectangle((float(information[2]), float(information[3])),(float(information[4])-float(information[2])), \\\n",
    "                                 (float(information[5])-float(information[3])),linewidth=1.5,edgecolor='lime',facecolor='none')\n",
    "\n",
    "        # Add the patch to the Axes\n",
    "        ax.add_patch(rect)    "
   ]
  },
  {
   "cell_type": "code",
   "execution_count": null,
   "metadata": {},
   "outputs": [],
   "source": [
    "for image_path in image_paths:\n",
    "    \n",
    "    image_name = image_path.split(\"/\")[7]\n",
    "    txt_name = image_name.replace(\".jpg\", \".txt\")\n",
    "    \n",
    "    im=cv2.imread(image_path)[:, :, ::-1]\n",
    "    \n",
    "    # Create figure and axes\n",
    "    fig, ax = plt.subplots()\n",
    "    # Display the image\n",
    "    ax.imshow(im)\n",
    "    \n",
    "    temp_fig=draw_box_on_image(im, test_label_path+txt_name, prediction_path+txt_name)\n",
    "    \n",
    "    # plt.show()\n",
    "    fig.savefig(output_path+image_name, dpi=256, bbox_inches='tight', pad_inches=0)\n",
    "\n",
    "print('--------- Finished ---------')"
   ]
  }
 ],
 "metadata": {
  "kernelspec": {
   "display_name": "Python 3",
   "language": "python",
   "name": "python3"
  },
  "language_info": {
   "codemirror_mode": {
    "name": "ipython",
    "version": 3
   },
   "file_extension": ".py",
   "mimetype": "text/x-python",
   "name": "python",
   "nbconvert_exporter": "python",
   "pygments_lexer": "ipython3",
   "version": "3.7.3"
  }
 },
 "nbformat": 4,
 "nbformat_minor": 4
}
