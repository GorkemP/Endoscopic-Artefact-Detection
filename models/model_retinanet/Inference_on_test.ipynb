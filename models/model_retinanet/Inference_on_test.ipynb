{
 "cells": [
  {
   "cell_type": "code",
   "execution_count": 1,
   "metadata": {},
   "outputs": [
    {
     "name": "stderr",
     "output_type": "stream",
     "text": [
      "/opt/conda/lib/python3.7/site-packages/IPython/utils/traitlets.py:5: UserWarning: IPython.utils.traitlets has moved to a top-level traitlets package.\n",
      "  warn(\"IPython.utils.traitlets has moved to a top-level traitlets package.\")\n"
     ]
    }
   ],
   "source": [
    "# Some basic setup:\n",
    "# Setup detectron2 logger\n",
    "import detectron2\n",
    "from detectron2.utils.logger import setup_logger\n",
    "setup_logger()\n",
    "\n",
    "# import some common libraries\n",
    "import numpy as np\n",
    "import glob\n",
    "import os\n",
    "import cv2\n",
    "import random\n",
    "from google.colab.patches import cv2_imshow\n",
    "\n",
    "# import some common detectron2 utilities\n",
    "from detectron2 import model_zoo\n",
    "from detectron2.engine import DefaultPredictor\n",
    "from detectron2.config import get_cfg\n",
    "from detectron2.utils.visualizer import Visualizer\n",
    "from detectron2.data import MetadataCatalog\n",
    "from detectron2.structures import BoxMode\n",
    "\n",
    "from detectron2.config import get_cfg"
   ]
  },
  {
   "cell_type": "code",
   "execution_count": 2,
   "metadata": {},
   "outputs": [],
   "source": [
    "class_names = [\"specularity\", \"saturation\", \"artifact\", \"blur\", \"contrast\", \n",
    "               \"bubbles\", \"instrument\", \"blood\"]\n",
    "\n",
    "model_path = \"output_32\""
   ]
  },
  {
   "cell_type": "code",
   "execution_count": 3,
   "metadata": {},
   "outputs": [],
   "source": [
    "cfg = get_cfg()\n",
    "\n",
    "cfg.merge_from_file(model_path+\"/config.yaml\")\n",
    "cfg.MODEL.WEIGHTS = os.path.join(model_path, \"model_0059999.pth\")\n",
    "cfg.MODEL.RETINANET.SCORE_THRESH_TEST = 0.3   \n",
    "\n",
    "cfg.DATASETS.TEST = (\"ead_validation_1\",)\n",
    "\n",
    "predictor = DefaultPredictor(cfg)"
   ]
  },
  {
   "cell_type": "code",
   "execution_count": 4,
   "metadata": {},
   "outputs": [],
   "source": [
    "VALIDATION_PATH = r'/home/ws2080/Desktop/data/training/test/'\n",
    "TEST_IMAGE_PATHS = glob.glob(VALIDATION_PATH+\"*.jpg\")"
   ]
  },
  {
   "cell_type": "code",
   "execution_count": 5,
   "metadata": {
    "scrolled": false
   },
   "outputs": [
    {
     "name": "stdout",
     "output_type": "stream",
     "text": [
      "Average inference time: 0.033676775296529134\n",
      "Test files created\n"
     ]
    }
   ],
   "source": [
    "import time\n",
    "\n",
    "total_time = 0\n",
    "for path in TEST_IMAGE_PATHS:\n",
    "    im = cv2.imread(path)\n",
    "    \n",
    "    start = time.time()\n",
    "    outputs = predictor(im)\n",
    "    total_time += time.time()-start\n",
    "    \n",
    "    txt_home_folder = r'/home/ws2080/Desktop/data/training/predicted/'\n",
    "    \n",
    "    txt_file_name = path.split(\"/\")[7]\n",
    "    txt_file_name = txt_file_name.replace(\".jpg\", \".txt\")\n",
    "    txt_file_name = txt_home_folder+txt_file_name    \n",
    "    \n",
    "    total_detection = len(outputs[\"instances\"])\n",
    "    \n",
    "    temp_detection_list = []\n",
    "    detections = outputs[\"instances\"]\n",
    "    \n",
    "    for i in range(total_detection):\n",
    "        temp_detection = class_names[int(detections.pred_classes[i])]+\" \"+ str(float(detections.scores[i]))+\" \"+str(float(detections.pred_boxes.tensor[i,0]))+\" \"+ str(float(detections.pred_boxes.tensor[i,1])) +\" \"+str(float(detections.pred_boxes.tensor[i,2]))+\" \"+ str(float(detections.pred_boxes.tensor[i,3]))\n",
    "        temp_detection_list.append(temp_detection)\n",
    "    \n",
    "    with open(txt_file_name, 'w') as f:\n",
    "            for item in temp_detection_list:\n",
    "                f.write(\"%s\\n\" % item)                                                                           \n",
    "\n",
    "print(\"Average inference time: \"+str(total_time/len(TEST_IMAGE_PATHS)))\n",
    "print(\"Test files created\")   "
   ]
  },
  {
   "cell_type": "code",
   "execution_count": null,
   "metadata": {},
   "outputs": [],
   "source": []
  }
 ],
 "metadata": {
  "kernelspec": {
   "display_name": "Python 3",
   "language": "python",
   "name": "python3"
  },
  "language_info": {
   "codemirror_mode": {
    "name": "ipython",
    "version": 3
   },
   "file_extension": ".py",
   "mimetype": "text/x-python",
   "name": "python",
   "nbconvert_exporter": "python",
   "pygments_lexer": "ipython3",
   "version": "3.7.4"
  }
 },
 "nbformat": 4,
 "nbformat_minor": 4
}
